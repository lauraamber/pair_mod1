{
 "cells": [
  {
   "cell_type": "code",
   "execution_count": null,
   "id": "5ea89939",
   "metadata": {},
   "outputs": [],
   "source": [
    "temperaturas = [2,45,67,23, 45,66,12,1,34,67,99,98,67,64, 44, 100]"
   ]
  },
  {
   "cell_type": "code",
   "execution_count": 19,
   "id": "9431aaec",
   "metadata": {},
   "outputs": [
    {
     "name": "stdout",
     "output_type": "stream",
     "text": [
      "[2, 1]\n",
      "[12]\n",
      "[45, 67, 23, 45, 66, 34, 67, 99, 98, 67, 64, 44, 100]\n"
     ]
    }
   ],
   "source": [
    "bajas_temp = []\n",
    "medias_temp = []\n",
    "altas_temp = []\n",
    "\n",
    "for i in temperaturas:\n",
    "    if i < 10:\n",
    "        bajas_temp.append(i)\n",
    "    elif i < 20:\n",
    "        medias_temp.append(i)\n",
    "    else:\n",
    "        altas_temp.append(i)\n",
    "\n",
    "print(bajas_temp)\n",
    "print(medias_temp)\n",
    "print(altas_temp)\n",
    "    "
   ]
  },
  {
   "cell_type": "code",
   "execution_count": 20,
   "id": "d6d5a7e5",
   "metadata": {},
   "outputs": [
    {
     "data": {
      "text/plain": [
       "list"
      ]
     },
     "execution_count": 20,
     "metadata": {},
     "output_type": "execute_result"
    }
   ],
   "source": [
    "type(bajas_temp)"
   ]
  },
  {
   "cell_type": "code",
   "execution_count": null,
   "id": "e0bf3cb4",
   "metadata": {},
   "outputs": [
    {
     "name": "stdout",
     "output_type": "stream",
     "text": [
      "35.6\n",
      "33.8\n"
     ]
    }
   ],
   "source": [
    "# la relacion de grados celsius y fahrenheit es: (0 °C × 9 / 5) + 32 = 32 °F\n",
    "\n",
    "for i in bajas_temp:\n",
    "    print((i * 9 / 5) + 32)"
   ]
  },
  {
   "cell_type": "code",
   "execution_count": 23,
   "id": "72a3ec19",
   "metadata": {},
   "outputs": [
    {
     "name": "stdout",
     "output_type": "stream",
     "text": [
      "53.6\n"
     ]
    }
   ],
   "source": [
    "for i in medias_temp:\n",
    "    print((i * 9 / 5) + 32)"
   ]
  },
  {
   "cell_type": "code",
   "execution_count": 24,
   "id": "6d4baaa6",
   "metadata": {},
   "outputs": [
    {
     "name": "stdout",
     "output_type": "stream",
     "text": [
      "113.0\n",
      "152.6\n",
      "73.4\n",
      "113.0\n",
      "150.8\n",
      "93.2\n",
      "152.6\n",
      "210.2\n",
      "208.4\n",
      "152.6\n",
      "147.2\n",
      "111.2\n",
      "212.0\n"
     ]
    }
   ],
   "source": [
    "for i in altas_temp:\n",
    "    print((i * 9 / 5) + 32)"
   ]
  },
  {
   "cell_type": "code",
   "execution_count": 25,
   "id": "6970a407",
   "metadata": {},
   "outputs": [
    {
     "name": "stdout",
     "output_type": "stream",
     "text": [
      "0\n",
      "1\n",
      "2\n",
      "3\n",
      "4\n",
      "5\n"
     ]
    }
   ],
   "source": [
    "for i in range(6):\n",
    "    print(i)"
   ]
  },
  {
   "cell_type": "code",
   "execution_count": 26,
   "id": "82151625",
   "metadata": {},
   "outputs": [
    {
     "name": "stdout",
     "output_type": "stream",
     "text": [
      "3\n",
      "4\n",
      "5\n",
      "6\n"
     ]
    }
   ],
   "source": [
    "for i in range(3,7):\n",
    "    print(i)"
   ]
  },
  {
   "cell_type": "code",
   "execution_count": 27,
   "id": "7c87a5e8",
   "metadata": {},
   "outputs": [
    {
     "name": "stdout",
     "output_type": "stream",
     "text": [
      "6\n",
      "7\n",
      "8\n"
     ]
    }
   ],
   "source": [
    "for i in range(6,9):\n",
    "    print(i)"
   ]
  },
  {
   "cell_type": "code",
   "execution_count": 29,
   "id": "4b0d7b89",
   "metadata": {},
   "outputs": [
    {
     "name": "stdout",
     "output_type": "stream",
     "text": [
      "2\n",
      "3\n",
      "4\n"
     ]
    }
   ],
   "source": [
    "for i in range(2,5):\n",
    "    print(i)"
   ]
  },
  {
   "cell_type": "code",
   "execution_count": 30,
   "id": "33e1c3b7",
   "metadata": {},
   "outputs": [
    {
     "name": "stdout",
     "output_type": "stream",
     "text": [
      "2\n",
      "5\n",
      "8\n",
      "11\n"
     ]
    }
   ],
   "source": [
    "for i in range(2,13,3):\n",
    "    print(i)"
   ]
  },
  {
   "cell_type": "code",
   "execution_count": 32,
   "id": "b7b26795",
   "metadata": {},
   "outputs": [
    {
     "name": "stdout",
     "output_type": "stream",
     "text": [
      "1\n",
      "3\n",
      "5\n",
      "7\n",
      "9\n"
     ]
    }
   ],
   "source": [
    "for i in range(1,10,2):\n",
    "    print(i)"
   ]
  },
  {
   "cell_type": "code",
   "execution_count": 34,
   "id": "710df1f9",
   "metadata": {},
   "outputs": [
    {
     "data": {
      "text/plain": [
       "[4,\n",
       " 2025,\n",
       " 4489,\n",
       " 529,\n",
       " 2025,\n",
       " 4356,\n",
       " 144,\n",
       " 1,\n",
       " 1156,\n",
       " 4489,\n",
       " 9801,\n",
       " 9604,\n",
       " 4489,\n",
       " 4096,\n",
       " 1936,\n",
       " 10000]"
      ]
     },
     "execution_count": 34,
     "metadata": {},
     "output_type": "execute_result"
    }
   ],
   "source": [
    "# Crea una lista nueva donde tengamos los números de la lista temperaturas elevados al cuadrado.\n",
    "# for i in temperaturas:\n",
    "# if i < 10:\n",
    "# bajas_temp.append(i)\n",
    "\n",
    "temperaturas = [2,45,67,23, 45,66,12,1,34,67,99,98,67,64, 44, 100]\n",
    "nuevas_temperaturas = []\n",
    "\n",
    "for i in temperaturas:\n",
    "    nuevas_temperaturas.append(i ** 2)\n",
    "\n",
    "nuevas_temperaturas"
   ]
  },
  {
   "cell_type": "code",
   "execution_count": 35,
   "id": "cad856ff",
   "metadata": {},
   "outputs": [
    {
     "data": {
      "text/plain": [
       "[0, 1, 1, 1, 1, 0, 0, 1, 0, 1, 1, 0, 1, 0, 0, 0]"
      ]
     },
     "execution_count": 35,
     "metadata": {},
     "output_type": "execute_result"
    }
   ],
   "source": [
    "temperaturas = [2,45,67,23, 45,66,12,1,34,67,99,98,67,64, 44, 100]\n",
    "nuevas_temperaturas2 = []\n",
    "\n",
    "for i in temperaturas:\n",
    "    nuevas_temperaturas2.append(i % 2)\n",
    "\n",
    "nuevas_temperaturas2"
   ]
  },
  {
   "cell_type": "code",
   "execution_count": null,
   "id": "d5d3f7e3",
   "metadata": {},
   "outputs": [
    {
     "name": "stdout",
     "output_type": "stream",
     "text": [
      "None\n",
      "None\n",
      "None\n",
      "None\n",
      "None\n",
      "None\n",
      "None\n",
      "None\n"
     ]
    }
   ],
   "source": [
    "temperaturas = [2,45,67,23, 45,66,12,1,34,67,99,98,67,64, 44, 100]\n",
    "temp_pares = []\n",
    "\n",
    "for i in temperaturas:\n",
    "    if (i % 2 == 0): # revisar la funcion\n",
    "        print(temp_pares.append(i))\n"
   ]
  },
  {
   "cell_type": "code",
   "execution_count": null,
   "id": "7fcd6546",
   "metadata": {},
   "outputs": [],
   "source": []
  }
 ],
 "metadata": {
  "kernelspec": {
   "display_name": "base",
   "language": "python",
   "name": "python3"
  },
  "language_info": {
   "codemirror_mode": {
    "name": "ipython",
    "version": 3
   },
   "file_extension": ".py",
   "mimetype": "text/x-python",
   "name": "python",
   "nbconvert_exporter": "python",
   "pygments_lexer": "ipython3",
   "version": "3.12.7"
  }
 },
 "nbformat": 4,
 "nbformat_minor": 5
}
