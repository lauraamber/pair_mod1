{
 "cells": [
  {
   "cell_type": "markdown",
   "id": "60db4ea9",
   "metadata": {},
   "source": [
    "# Sentencias de control"
   ]
  },
  {
   "cell_type": "code",
   "execution_count": 1,
   "id": "12875ef2",
   "metadata": {},
   "outputs": [
    {
     "name": "stdout",
     "output_type": "stream",
     "text": [
      "¡Es enorme!\n"
     ]
    }
   ],
   "source": [
    "var1 = 8\n",
    "var2 = 2\n",
    "var3 = 8\n",
    "\n",
    "# Comprueba si var1 es mayor que 6, y si es así imprime ¡Es enorme!.\n",
    "if var1 > 6:\n",
    "    print('¡Es enorme!')"
   ]
  },
  {
   "cell_type": "code",
   "execution_count": 2,
   "id": "0af8dce4",
   "metadata": {},
   "outputs": [],
   "source": [
    "# Comprueba si var2 es mayor que 6, y si es así imprime ¡Es enorme también!.\n",
    "if var2 > 6:\n",
    "    print('¡Es enorme también!')"
   ]
  },
  {
   "cell_type": "code",
   "execution_count": 3,
   "id": "76401f19",
   "metadata": {},
   "outputs": [
    {
     "name": "stdout",
     "output_type": "stream",
     "text": [
      "¡Es enorme!\n",
      "¡Pero de verdad!\n"
     ]
    }
   ],
   "source": [
    "# Comprueba si var3 es mayor que 6, y si es así imprime ¡Es enorme! seguido por ¡Pero de verdad! en otra línea (deberéis tener dos print).\n",
    "if var3 > 6:\n",
    "    print('¡Es enorme!')\n",
    "    print('¡Pero de verdad!')"
   ]
  },
  {
   "cell_type": "code",
   "execution_count": 4,
   "id": "f63b00f6",
   "metadata": {},
   "outputs": [
    {
     "name": "stdout",
     "output_type": "stream",
     "text": [
      "Son iguales...\n"
     ]
    }
   ],
   "source": [
    "# Comprueba si var1 es igual que var3, y si es así imprime Son iguales..\n",
    "if var1 == var3:\n",
    "    print('Son iguales...')"
   ]
  },
  {
   "cell_type": "code",
   "execution_count": 5,
   "id": "e5d918ab",
   "metadata": {},
   "outputs": [],
   "source": [
    "# Comprueba si var1 es igual que var2, y si es así imprime Son iguales.\n",
    "if var1 == var2:\n",
    "    print('Son iguales')"
   ]
  },
  {
   "cell_type": "code",
   "execution_count": 6,
   "id": "daa8c800",
   "metadata": {},
   "outputs": [
    {
     "name": "stdout",
     "output_type": "stream",
     "text": [
      "La diferencia es 6\n"
     ]
    }
   ],
   "source": [
    "# Comprueba si var1 es mayor o igual que var2, y si es así calcula la diferencia entre var1 y var2, guárdala en la variable dif, e imprime 'La diferencia es',dif.\n",
    "if var1 >= var2:\n",
    "    dif = var1 - var2\n",
    "    print(f'La diferencia es {dif}')"
   ]
  },
  {
   "cell_type": "code",
   "execution_count": 7,
   "id": "eb73050d",
   "metadata": {},
   "outputs": [
    {
     "name": "stdout",
     "output_type": "stream",
     "text": [
      "¡Es enorme!\n"
     ]
    }
   ],
   "source": [
    "# Comprueba si var1 es mayor que 6, y si es así imprime ¡Es enorme!. Si no es así imprime Es chiquitín..\n",
    "if var1 > 6:\n",
    "    print('¡Es enorme!')\n",
    "else:\n",
    "    print('Es chiquitín')"
   ]
  },
  {
   "cell_type": "code",
   "execution_count": 8,
   "id": "cebb2871",
   "metadata": {},
   "outputs": [
    {
     "name": "stdout",
     "output_type": "stream",
     "text": [
      "Es chiquitín\n"
     ]
    }
   ],
   "source": [
    "# Comprueba si var2 es mayor que 6, y si es así imprime ¡Es enorme también!. Si no es así imprime Es chiquitín también..\n",
    "if var2 >6:\n",
    "    print('¡Es enorme también!')\n",
    "else:\n",
    "    print('Es chiquitín')"
   ]
  },
  {
   "cell_type": "code",
   "execution_count": 9,
   "id": "280f6a05",
   "metadata": {},
   "outputs": [
    {
     "name": "stdout",
     "output_type": "stream",
     "text": [
      "Son iguales\n"
     ]
    }
   ],
   "source": [
    "# Comprueba si var1 es igual a var3, y si es así imprime Son iguales. Si no es así imprime Son distintos.\n",
    "if var1 == var3:\n",
    "    print('Son iguales')\n",
    "else:\n",
    "    print('Son distintos')"
   ]
  },
  {
   "cell_type": "code",
   "execution_count": 16,
   "id": "ef781624",
   "metadata": {},
   "outputs": [
    {
     "name": "stdout",
     "output_type": "stream",
     "text": [
      "Debe pagar 10€\n"
     ]
    }
   ],
   "source": [
    "# Escribe un programa para una empresa que tiene salas de juegos para todas las edades y quiere calcular de forma automática el precio que debe cobrar\n",
    "# a sus clientes por entrar. El programa debe preguntar al usuario:\n",
    "\n",
    "# La edad del cliente.\n",
    "\n",
    "# Las condiciones que tendremos que chequear:\n",
    "\n",
    "# Si el cliente es menor de 4 años puede entrar gratis,\n",
    "\n",
    "# Si tiene entre 4 y 18 años debe pagar 5€ y\n",
    "\n",
    "# Si es mayor de 18 años, 10€.\n",
    "\n",
    "edad_cliente = int(input('¿Cuál es tu edad'))\n",
    "if edad_cliente < 4:\n",
    "    print('Puede entrar gratis')\n",
    "if edad_cliente < 18:\n",
    "    print('Debe pagar 5€')\n",
    "if edad_cliente > 18:\n",
    "    print('Debe pagar 10€')"
   ]
  },
  {
   "cell_type": "code",
   "execution_count": 21,
   "id": "0ae47131",
   "metadata": {},
   "outputs": [
    {
     "name": "stdout",
     "output_type": "stream",
     "text": [
      "ahorros:5\n",
      "ahorros:10\n",
      "ahorros:15\n",
      "ahorros:20\n"
     ]
    }
   ],
   "source": [
    "# Inicia la variable ahorros con un valor de 5. Crea un bucle while que mientras los ahorros sean igual o menor que 20 imprima por pantalla la cantidad\n",
    "# de ahorros que tenemos, y añádele 5 más. Cuando la variable ahorros supere el valor de 20 el bucle deberá parar.\n",
    "\n",
    "ahorros = 5\n",
    "while ahorros <= 20:\n",
    "    print(f'ahorros:{ahorros}')\n",
    "    ahorros += 5"
   ]
  },
  {
   "cell_type": "code",
   "execution_count": null,
   "id": "236aab11",
   "metadata": {},
   "outputs": [],
   "source": [
    "# Crea un programa que calcule el impuesto sobre la renta de una persona basado en su ingreso anual y su estado civil (soltero o casado). Para eso deberás:\n",
    "\n",
    "# Solicitar al usuario su ingreso anual.\n",
    "# Preguntar al usuario su estado civil, permitiendo dos opciones: \"soltero\" (S) o \"casado\" (C).\n",
    "\n",
    "# Calcular el impuesto sobre la renta utilizando las siguientes reglas:\n",
    "# Si el estado civil es \"soltero\" (S):\n",
    "# Si el ingreso anual es menor o igual a $9,875, el impuesto es el 10% del ingreso anual.\n",
    "# Si el ingreso anual está entre $9,876 y $40,125, el impuesto es el 10% de los primeros $9,875 más el 12% de la cantidad que excede los $9,875.\n",
    "# Si el estado civil es \"casado\" (C):\n",
    "# Si el ingreso anual es menor o igual a $19,850, el impuesto es el 10% del ingreso anual.\n",
    "# Si el ingreso anual está entre $19,851 y $80,250, el impuesto es el 10% de los primeros $19,850 más el 12% de la cantidad que excede los $19,850.\n",
    "\n",
    "ingreso_anual = int(input('Dime tus ingresos anuales'))\n",
    "estado_civil = input('¿Cuál es tu estado civil?')\n",
    "\n"
   ]
  },
  {
   "cell_type": "code",
   "execution_count": null,
   "id": "622ed14c",
   "metadata": {},
   "outputs": [],
   "source": []
  }
 ],
 "metadata": {
  "kernelspec": {
   "display_name": "base",
   "language": "python",
   "name": "python3"
  },
  "language_info": {
   "codemirror_mode": {
    "name": "ipython",
    "version": 3
   },
   "file_extension": ".py",
   "mimetype": "text/x-python",
   "name": "python",
   "nbconvert_exporter": "python",
   "pygments_lexer": "ipython3",
   "version": "3.12.7"
  }
 },
 "nbformat": 4,
 "nbformat_minor": 5
}
